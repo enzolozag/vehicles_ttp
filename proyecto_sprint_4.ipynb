{
 "cells": [
  {
   "cell_type": "markdown",
   "metadata": {
    "id": "3rYiDeEH0q0f"
   },
   "source": [
    "# ¿Cuál es la mejor tarifa?\n",
    "\n",
    "Trabajas como analista para el operador de telecomunicaciones Megaline. La empresa ofrece a sus clientes dos tarifas de prepago, Surf y Ultimate. El departamento comercial quiere saber cuál de las tarifas genera más ingresos para poder ajustar el presupuesto de publicidad.\n",
    "\n",
    "Vas a realizar un análisis preliminar de las tarifas basado en una selección de clientes relativamente pequeña. Tendrás los datos de 500 clientes de Megaline: quiénes son los clientes, de dónde son, qué tarifa usan, así como la cantidad de llamadas que hicieron y los mensajes de texto que enviaron en 2018. Tu trabajo es analizar el comportamiento de los clientes y determinar qué tarifa de prepago genera más ingresos."
   ]
  },
  {
   "cell_type": "markdown",
   "metadata": {
    "id": "VNddPNRQ0q0w"
   },
   "source": [
    "[Te proporcionamos algunos comentarios para orientarte mientras completas este proyecto. Pero debes asegurarte de eliminar todos los comentarios entre corchetes antes de entregar tu proyecto.]\n",
    "\n",
    "[Antes de sumergirte en el análisis de datos, explica por tu propia cuenta el propósito del proyecto y las acciones que planeas realizar.]\n",
    "\n",
    "[Ten en cuenta que estudiar, modificar y analizar datos es un proceso iterativo. Es normal volver a los pasos anteriores y corregirlos/ampliarlos para permitir nuevos pasos.]"
   ]
  },
  {
   "cell_type": "markdown",
   "metadata": {
    "id": "MQi4IPy70q0y"
   },
   "source": [
    "## Inicialización"
   ]
  },
  {
   "cell_type": "code",
   "execution_count": 2,
   "metadata": {
    "id": "MtYIuBxu0q0z"
   },
   "outputs": [],
   "source": [
    "# Cargar todas las librerías\n",
    "import pandas as pd\n",
    "import numpy as np\n",
    "import math as mt\n",
    "import seaborn as sns\n",
    "from scipy import stats as st\n",
    "from matplotlib import pyplot as plt"
   ]
  },
  {
   "cell_type": "markdown",
   "metadata": {
    "id": "4ysWWC5i0q00"
   },
   "source": [
    "## Cargar datos"
   ]
  },
  {
   "cell_type": "code",
   "execution_count": 3,
   "metadata": {
    "id": "CCqPW7rS0q01"
   },
   "outputs": [],
   "source": [
    "# Carga los archivos de datos en diferentes DataFrames\n",
    "calls_df = pd.read_csv('datasets/megaline_calls.csv')\n",
    "internet_df = pd.read_csv('datasets/megaline_internet.csv')\n",
    "messages_df = pd.read_csv('datasets/megaline_messages.csv')\n",
    "plans_df = pd.read_csv('datasets/megaline_plans.csv')\n",
    "users_df = pd.read_csv('datasets/megaline_users.csv')"
   ]
  },
  {
   "cell_type": "markdown",
   "metadata": {
    "id": "69qqoJ3r0q01"
   },
   "source": [
    "## Preparar los datos"
   ]
  },
  {
   "cell_type": "markdown",
   "metadata": {
    "id": "ohBhimvH0q01"
   },
   "source": [
    "## Tarifas"
   ]
  },
  {
   "cell_type": "code",
   "execution_count": 4,
   "metadata": {
    "id": "GptqP3Q40q02"
   },
   "outputs": [
    {
     "name": "stdout",
     "output_type": "stream",
     "text": [
      "<class 'pandas.core.frame.DataFrame'>\n",
      "RangeIndex: 2 entries, 0 to 1\n",
      "Data columns (total 8 columns):\n",
      " #   Column                 Non-Null Count  Dtype  \n",
      "---  ------                 --------------  -----  \n",
      " 0   messages_included      2 non-null      int64  \n",
      " 1   mb_per_month_included  2 non-null      int64  \n",
      " 2   minutes_included       2 non-null      int64  \n",
      " 3   usd_monthly_pay        2 non-null      int64  \n",
      " 4   usd_per_gb             2 non-null      int64  \n",
      " 5   usd_per_message        2 non-null      float64\n",
      " 6   usd_per_minute         2 non-null      float64\n",
      " 7   plan_name              2 non-null      object \n",
      "dtypes: float64(2), int64(5), object(1)\n",
      "memory usage: 260.0+ bytes\n"
     ]
    }
   ],
   "source": [
    "# Imprime la información general/resumida sobre el DataFrame de las tarifas\n",
    "plans_df.info(show_counts=True)"
   ]
  },
  {
   "cell_type": "code",
   "execution_count": 5,
   "metadata": {
    "id": "64xzjwL70q02"
   },
   "outputs": [
    {
     "name": "stdout",
     "output_type": "stream",
     "text": [
      "   messages_included  mb_per_month_included  minutes_included  \\\n",
      "0                 50                  15360               500   \n",
      "1               1000                  30720              3000   \n",
      "\n",
      "   usd_monthly_pay  usd_per_gb  usd_per_message  usd_per_minute plan_name  \n",
      "0               20          10             0.03            0.03      surf  \n",
      "1               70           7             0.01            0.01  ultimate  \n"
     ]
    }
   ],
   "source": [
    "# Imprime una muestra de los datos para las tarifas\n",
    "print(plans_df.head())"
   ]
  },
  {
   "cell_type": "markdown",
   "metadata": {
    "id": "mEc_3_hs0q02"
   },
   "source": [
    "En el DF de tarifas `plans_df` vemos que solo contiene la información de cada tipo de tarifa. Todas las columnas tienen el tipo de datos correspondiente y no existen valores ausentes ni duplicados. La columna de `mb_per_month_included` se podría corregir convirtiéndola a gigabytes para tener la información en las mismas unidades como la columna `usd_per_gb` y también porque finalmente Megaline redondea los megabytes a gigabytes."
   ]
  },
  {
   "cell_type": "markdown",
   "metadata": {
    "id": "R3C05i1l0q03"
   },
   "source": [
    "## Corregir datos"
   ]
  },
  {
   "cell_type": "code",
   "execution_count": null,
   "metadata": {
    "id": "Y7SVmjGn0q03"
   },
   "outputs": [],
   "source": []
  },
  {
   "cell_type": "markdown",
   "metadata": {
    "id": "LJir7bml0q03"
   },
   "source": [
    "## Enriquecer los datos"
   ]
  },
  {
   "cell_type": "code",
   "execution_count": 6,
   "metadata": {
    "id": "gfcIEuXV0q04"
   },
   "outputs": [],
   "source": [
    "# Creación de una nueva columna que contenga los gigabytes incluidos por mes\n",
    "plans_df['gb_per_month_included'] = plans_df['mb_per_month_included']/1024\n",
    "\n",
    "# Eliminación de columna de megabytes incluidos por mes\n",
    "plans_df.drop('mb_per_month_included',axis=1,inplace=True)"
   ]
  },
  {
   "cell_type": "markdown",
   "metadata": {},
   "source": [
    "En este punto estamos haciendo la conversión de la columna de `mb_per_month_included` a `gb_per_month_included` finalmente eliminando la primera columna para evitar tener información duplicada."
   ]
  },
  {
   "cell_type": "markdown",
   "metadata": {
    "id": "1n2X6WXf0q04"
   },
   "source": [
    "## Usuarios/as"
   ]
  },
  {
   "cell_type": "code",
   "execution_count": 7,
   "metadata": {
    "id": "2NgjWFqx0q05"
   },
   "outputs": [
    {
     "name": "stdout",
     "output_type": "stream",
     "text": [
      "<class 'pandas.core.frame.DataFrame'>\n",
      "RangeIndex: 500 entries, 0 to 499\n",
      "Data columns (total 8 columns):\n",
      " #   Column      Non-Null Count  Dtype \n",
      "---  ------      --------------  ----- \n",
      " 0   user_id     500 non-null    int64 \n",
      " 1   first_name  500 non-null    object\n",
      " 2   last_name   500 non-null    object\n",
      " 3   age         500 non-null    int64 \n",
      " 4   city        500 non-null    object\n",
      " 5   reg_date    500 non-null    object\n",
      " 6   plan        500 non-null    object\n",
      " 7   churn_date  34 non-null     object\n",
      "dtypes: int64(2), object(6)\n",
      "memory usage: 31.4+ KB\n"
     ]
    }
   ],
   "source": [
    "# Imprime la información general/resumida sobre el DataFrame de usuarios\n",
    "users_df.info(show_counts=True)"
   ]
  },
  {
   "cell_type": "code",
   "execution_count": 8,
   "metadata": {
    "id": "1IN1L9uh0q05"
   },
   "outputs": [
    {
     "name": "stdout",
     "output_type": "stream",
     "text": [
      "   user_id first_name  last_name  age                                   city  \\\n",
      "0     1000   Anamaria      Bauer   45  Atlanta-Sandy Springs-Roswell, GA MSA   \n",
      "1     1001     Mickey  Wilkerson   28        Seattle-Tacoma-Bellevue, WA MSA   \n",
      "2     1002     Carlee    Hoffman   36   Las Vegas-Henderson-Paradise, NV MSA   \n",
      "3     1003   Reynaldo    Jenkins   52                          Tulsa, OK MSA   \n",
      "4     1004    Leonila   Thompson   40        Seattle-Tacoma-Bellevue, WA MSA   \n",
      "\n",
      "     reg_date      plan churn_date  \n",
      "0  2018-12-24  ultimate        NaN  \n",
      "1  2018-08-13      surf        NaN  \n",
      "2  2018-10-21      surf        NaN  \n",
      "3  2018-01-28      surf        NaN  \n",
      "4  2018-05-23      surf        NaN  \n",
      "\n",
      "Filas duplicadas 0 \n",
      "\n"
     ]
    }
   ],
   "source": [
    "# Imprime una muestra de datos para usuarios\n",
    "print(users_df.head())\n",
    "\n",
    "# Confirmando si existen valores duplicados\n",
    "print('\\nFilas duplicadas',users_df.duplicated().sum(),'\\n')"
   ]
  },
  {
   "cell_type": "markdown",
   "metadata": {
    "id": "dCZoUq4f0q06"
   },
   "source": [
    "[Describe lo que ves y observas en la información general y en la muestra de datos impresa para el precio de datos anterior. ¿Hay algún problema (tipos de datos no adecuados, datos ausentes, etc.) que pudieran necesitar investigación y cambios adicionales? ¿Cómo se puede arreglar?]\n",
    "\n",
    "A primera vista en el DF de Usuarios `users_df` vemos que:\n",
    "1. Las columnas de fechas `reg_date` y `churn_date` no tienen el tipo de datos adecuado, que debería de ser `datetime64`.\n",
    "2. También existen valores ausentes en la columna de `churn_date` pero por el momento no sabemos si será necesario rellenar los valores ausentes con algo o simplemente dejarlo así.\n",
    "3. Por último también vemos que la columna `city` no solo contiene el nombre de la ciudad, también contiene el área y el código 'MSA' (Metropolitan statistical area) que indica que se habla de un área metropolitana. Ésta columna podría ser dividida entre 'ciudad' y 'area' dejando por fuera la parte de MSA que podría ser innecesario continuar teniendolo en el DF ya que con solo tenerlo en cuenta es suficiente."
   ]
  },
  {
   "cell_type": "markdown",
   "metadata": {
    "id": "BX5FQh_I0q06"
   },
   "source": [
    "### Corregir los datos"
   ]
  },
  {
   "cell_type": "markdown",
   "metadata": {
    "id": "8OdKMwJv0q06"
   },
   "source": [
    "[Corrige los problemas obvios con los datos basándote en las observaciones iniciales.]"
   ]
  },
  {
   "cell_type": "code",
   "execution_count": 9,
   "metadata": {
    "id": "yUqX-K0C0q07"
   },
   "outputs": [
    {
     "name": "stdout",
     "output_type": "stream",
     "text": [
      "<class 'pandas.core.frame.DataFrame'>\n",
      "RangeIndex: 500 entries, 0 to 499\n",
      "Data columns (total 8 columns):\n",
      " #   Column      Non-Null Count  Dtype         \n",
      "---  ------      --------------  -----         \n",
      " 0   user_id     500 non-null    int64         \n",
      " 1   first_name  500 non-null    object        \n",
      " 2   last_name   500 non-null    object        \n",
      " 3   age         500 non-null    int64         \n",
      " 4   city        500 non-null    object        \n",
      " 5   reg_date    500 non-null    datetime64[ns]\n",
      " 6   plan        500 non-null    object        \n",
      " 7   churn_date  34 non-null     datetime64[ns]\n",
      "dtypes: datetime64[ns](2), int64(2), object(4)\n",
      "memory usage: 31.4+ KB\n"
     ]
    }
   ],
   "source": [
    "# Cambiando tipo de datos de 'reg_date' de object a tipo datetime64 \n",
    "users_df['reg_date'] = pd.to_datetime(users_df['reg_date'],format='%Y-%m-%d')\n",
    "\n",
    "# Cambiando tipo de datos de 'churn_date' de object a tipo datetime64 \n",
    "users_df['churn_date'] = pd.to_datetime(users_df['churn_date'],format='%Y-%m-%d')\n",
    "\n",
    "# Confirmando cambios\n",
    "users_df.info()"
   ]
  },
  {
   "cell_type": "markdown",
   "metadata": {},
   "source": [
    "En este punto cambiamos el tipo de datos de las columnas `reg_date` y `churn_date` y lo comprobamos imprimiendo la información del DF."
   ]
  },
  {
   "cell_type": "markdown",
   "metadata": {
    "id": "ycwuARJp0q07"
   },
   "source": [
    "### Enriquecer los datos"
   ]
  },
  {
   "cell_type": "code",
   "execution_count": 10,
   "metadata": {
    "id": "iq0AaBS90q08"
   },
   "outputs": [
    {
     "name": "stdout",
     "output_type": "stream",
     "text": [
      "   user_id first_name  last_name  age                           city  \\\n",
      "0     1000   Anamaria      Bauer   45  Atlanta-Sandy Springs-Roswell   \n",
      "1     1001     Mickey  Wilkerson   28        Seattle-Tacoma-Bellevue   \n",
      "2     1002     Carlee    Hoffman   36   Las Vegas-Henderson-Paradise   \n",
      "3     1003   Reynaldo    Jenkins   52                          Tulsa   \n",
      "4     1004    Leonila   Thompson   40        Seattle-Tacoma-Bellevue   \n",
      "\n",
      "    reg_date      plan churn_date area  \n",
      "0 2018-12-24  ultimate        NaT   GA  \n",
      "1 2018-08-13      surf        NaT   WA  \n",
      "2 2018-10-21      surf        NaT   NV  \n",
      "3 2018-01-28      surf        NaT   OK  \n",
      "4 2018-05-23      surf        NaT   WA  \n"
     ]
    }
   ],
   "source": [
    "# Separando columna de 'city' de la área\n",
    "users_df[['city','area']] = users_df['city'].str.split(',',expand=True)\n",
    "users_df['area'] = users_df['area'].str.replace(' MSA','')\n",
    "\n",
    "# Quitando espacios\n",
    "users_df['city'] = users_df['city'].str.strip()\n",
    "users_df['area'] = users_df['area'].str.strip()\n",
    "\n",
    "print(users_df.head())\n"
   ]
  },
  {
   "cell_type": "markdown",
   "metadata": {},
   "source": [
    "Aquí separamos la información de la columna `city` a nuevas columnas de `city` y `area` eliminando espacios e información innecesaria.  "
   ]
  },
  {
   "cell_type": "markdown",
   "metadata": {
    "id": "o7MeKCid0q08"
   },
   "source": [
    "## Llamadas"
   ]
  },
  {
   "cell_type": "code",
   "execution_count": 11,
   "metadata": {
    "id": "6dDlnoDm0q08"
   },
   "outputs": [
    {
     "name": "stdout",
     "output_type": "stream",
     "text": [
      "<class 'pandas.core.frame.DataFrame'>\n",
      "RangeIndex: 137735 entries, 0 to 137734\n",
      "Data columns (total 4 columns):\n",
      " #   Column     Non-Null Count   Dtype  \n",
      "---  ------     --------------   -----  \n",
      " 0   id         137735 non-null  object \n",
      " 1   user_id    137735 non-null  int64  \n",
      " 2   call_date  137735 non-null  object \n",
      " 3   duration   137735 non-null  float64\n",
      "dtypes: float64(1), int64(1), object(2)\n",
      "memory usage: 4.2+ MB\n"
     ]
    }
   ],
   "source": [
    "# Imprime la información general/resumida sobre el DataFrame de las llamadas\n",
    "calls_df.info(show_counts=True)"
   ]
  },
  {
   "cell_type": "code",
   "execution_count": 12,
   "metadata": {
    "id": "kuh1vlNB0q09"
   },
   "outputs": [
    {
     "name": "stdout",
     "output_type": "stream",
     "text": [
      "         id  user_id   call_date  duration\n",
      "0   1000_93     1000  2018-12-27      8.52\n",
      "1  1000_145     1000  2018-12-27     13.66\n",
      "2  1000_247     1000  2018-12-27     14.48\n",
      "3  1000_309     1000  2018-12-28      5.76\n",
      "4  1000_380     1000  2018-12-30      4.22\n",
      "\n",
      "Filas duplicadas 0\n"
     ]
    }
   ],
   "source": [
    "# Imprime una muestra de datos para las llamadas\n",
    "print(calls_df.head())\n",
    "\n",
    "# Confirmando si existen valores duplicados\n",
    "print('\\nFilas duplicadas',calls_df.duplicated().sum())"
   ]
  },
  {
   "cell_type": "markdown",
   "metadata": {
    "id": "DOAxYJSx0q09"
   },
   "source": [
    "En el DF de llamadas `calls_df` observamos que el tipo de daros de `call_date` no tiene el tipo de datos adecuado para fechas, no observamos datos ausentes y tampoco duplicados."
   ]
  },
  {
   "cell_type": "markdown",
   "metadata": {
    "id": "S7hzxmbX0q0-"
   },
   "source": [
    "### Corregir los datos"
   ]
  },
  {
   "cell_type": "markdown",
   "metadata": {
    "id": "YxWyAjD20q0-"
   },
   "source": [
    "[Corrige los problemas obvios con los datos basándote en las observaciones iniciales.]"
   ]
  },
  {
   "cell_type": "code",
   "execution_count": 13,
   "metadata": {
    "id": "S2r8xA4f0q0-"
   },
   "outputs": [
    {
     "name": "stdout",
     "output_type": "stream",
     "text": [
      "<class 'pandas.core.frame.DataFrame'>\n",
      "RangeIndex: 137735 entries, 0 to 137734\n",
      "Data columns (total 4 columns):\n",
      " #   Column     Non-Null Count   Dtype         \n",
      "---  ------     --------------   -----         \n",
      " 0   id         137735 non-null  object        \n",
      " 1   user_id    137735 non-null  int64         \n",
      " 2   call_date  137735 non-null  datetime64[ns]\n",
      " 3   duration   137735 non-null  float64       \n",
      "dtypes: datetime64[ns](1), float64(1), int64(1), object(1)\n",
      "memory usage: 4.2+ MB\n"
     ]
    }
   ],
   "source": [
    "# Cambiando tipo de datos de 'call_date' de object a tipo datetime64 \n",
    "calls_df['call_date'] = pd.to_datetime(calls_df['call_date'],format='%Y-%m-%d')\n",
    "\n",
    "# Confirmando cambios\n",
    "calls_df.info()"
   ]
  },
  {
   "cell_type": "markdown",
   "metadata": {},
   "source": [
    "Aquí simplemente cambiamos el tipo de datos de `call_date` a `datetime64`."
   ]
  },
  {
   "cell_type": "markdown",
   "metadata": {
    "id": "KrMgTrlG0q0_"
   },
   "source": [
    "### Enriquecer los datos"
   ]
  },
  {
   "cell_type": "code",
   "execution_count": 14,
   "metadata": {
    "id": "iZ1avpA_0q0_"
   },
   "outputs": [
    {
     "name": "stdout",
     "output_type": "stream",
     "text": [
      "         id  user_id  call_date  duration  month\n",
      "0   1000_93     1000 2018-12-27         9     12\n",
      "1  1000_145     1000 2018-12-27        14     12\n",
      "2  1000_247     1000 2018-12-27        15     12\n",
      "3  1000_309     1000 2018-12-28         6     12\n",
      "4  1000_380     1000 2018-12-30         5     12\n"
     ]
    }
   ],
   "source": [
    "# Creando columna 'mes' basandonos en call_date\n",
    "calls_df['month']= calls_df['call_date'].dt.month \n",
    "\n",
    "# Redondeando hacia arriba los minutos de las llamadas\n",
    "calls_df['duration'] = calls_df['duration'].apply(lambda x: mt.ceil(x)) \n",
    "\n",
    "print(calls_df.head())"
   ]
  },
  {
   "cell_type": "markdown",
   "metadata": {},
   "source": [
    "En este punto estamos primero, creando una nueva columna llamada `month` que contiene la información del mes basándose en la columna de `call_date` y también hacemos algo importante, redondeamos los minutos y segundos que duraron las llamadas hacia arriba ya que es como Megaline realiza sus cálculos."
   ]
  },
  {
   "cell_type": "markdown",
   "metadata": {
    "id": "mOUZSi180q0_"
   },
   "source": [
    "## Mensajes"
   ]
  },
  {
   "cell_type": "code",
   "execution_count": 15,
   "metadata": {
    "id": "R-bYJpdV0q1A"
   },
   "outputs": [
    {
     "name": "stdout",
     "output_type": "stream",
     "text": [
      "<class 'pandas.core.frame.DataFrame'>\n",
      "RangeIndex: 76051 entries, 0 to 76050\n",
      "Data columns (total 3 columns):\n",
      " #   Column        Non-Null Count  Dtype \n",
      "---  ------        --------------  ----- \n",
      " 0   id            76051 non-null  object\n",
      " 1   user_id       76051 non-null  int64 \n",
      " 2   message_date  76051 non-null  object\n",
      "dtypes: int64(1), object(2)\n",
      "memory usage: 1.7+ MB\n"
     ]
    }
   ],
   "source": [
    "# Imprime la información general/resumida sobre el DataFrame de los mensajes\n",
    "messages_df.info(show_counts=True)"
   ]
  },
  {
   "cell_type": "code",
   "execution_count": 16,
   "metadata": {
    "id": "mCEl2iGE0q1A"
   },
   "outputs": [
    {
     "name": "stdout",
     "output_type": "stream",
     "text": [
      "         id  user_id message_date\n",
      "0  1000_125     1000   2018-12-27\n",
      "1  1000_160     1000   2018-12-31\n",
      "2  1000_223     1000   2018-12-31\n",
      "3  1000_251     1000   2018-12-27\n",
      "4  1000_255     1000   2018-12-26\n"
     ]
    }
   ],
   "source": [
    "# Imprime una muestra de datos para los mensajes\n",
    "print(messages_df.head())"
   ]
  },
  {
   "cell_type": "markdown",
   "metadata": {
    "id": "04xDj7KH0q1A"
   },
   "source": [
    "En el DF de mensaje `messages_df` como en los demás DataFrames revisados anteriormente, debemos de cambiar el tipo de datos de `message_date`."
   ]
  },
  {
   "cell_type": "markdown",
   "metadata": {
    "id": "Sprfak900q1B"
   },
   "source": [
    "### Corregir los datos"
   ]
  },
  {
   "cell_type": "markdown",
   "metadata": {
    "id": "eGw7d9j10q1B"
   },
   "source": [
    "[Corrige los problemas obvios con los datos basándote en las observaciones iniciales.]"
   ]
  },
  {
   "cell_type": "code",
   "execution_count": 17,
   "metadata": {
    "id": "vsllvkoa0q1B"
   },
   "outputs": [
    {
     "name": "stdout",
     "output_type": "stream",
     "text": [
      "<class 'pandas.core.frame.DataFrame'>\n",
      "RangeIndex: 76051 entries, 0 to 76050\n",
      "Data columns (total 3 columns):\n",
      " #   Column        Non-Null Count  Dtype         \n",
      "---  ------        --------------  -----         \n",
      " 0   id            76051 non-null  object        \n",
      " 1   user_id       76051 non-null  int64         \n",
      " 2   message_date  76051 non-null  datetime64[ns]\n",
      "dtypes: datetime64[ns](1), int64(1), object(1)\n",
      "memory usage: 1.7+ MB\n"
     ]
    }
   ],
   "source": [
    "# Cambiando tipo de datos de 'message_date' de object a tipo datetime64 \n",
    "messages_df['message_date'] = pd.to_datetime(messages_df['message_date'],format='%Y-%m-%d')\n",
    "\n",
    "# Confirmando cambios\n",
    "messages_df.info()"
   ]
  },
  {
   "cell_type": "markdown",
   "metadata": {
    "id": "HvLid7iD0q1B"
   },
   "source": [
    "### Enriquecer los datos"
   ]
  },
  {
   "cell_type": "markdown",
   "metadata": {
    "id": "8nhPFKIe0q1C"
   },
   "source": [
    "[Agrega factores adicionales a los datos si crees que pudieran ser útiles.]"
   ]
  },
  {
   "cell_type": "code",
   "execution_count": 18,
   "metadata": {
    "id": "zYEXZac10q1C"
   },
   "outputs": [
    {
     "name": "stdout",
     "output_type": "stream",
     "text": [
      "         id  user_id message_date  month\n",
      "0  1000_125     1000   2018-12-27     12\n",
      "1  1000_160     1000   2018-12-31     12\n",
      "2  1000_223     1000   2018-12-31     12\n",
      "3  1000_251     1000   2018-12-27     12\n",
      "4  1000_255     1000   2018-12-26     12\n"
     ]
    }
   ],
   "source": [
    "# Creando columna 'mes' basandonos en message_date\n",
    "messages_df['month'] = messages_df['message_date'].dt.month  \n",
    "\n",
    "print(messages_df.head())"
   ]
  },
  {
   "cell_type": "markdown",
   "metadata": {},
   "source": [
    "Para el análisis fue necesario agregar la columna `month` a nuestro DF, basándonos en la fecha de `message_date`."
   ]
  },
  {
   "cell_type": "markdown",
   "metadata": {
    "id": "bStkaxn40q1C"
   },
   "source": [
    "## income"
   ]
  },
  {
   "cell_type": "code",
   "execution_count": 19,
   "metadata": {
    "id": "e-Uz5qyn0q1C"
   },
   "outputs": [
    {
     "name": "stdout",
     "output_type": "stream",
     "text": [
      "<class 'pandas.core.frame.DataFrame'>\n",
      "RangeIndex: 104825 entries, 0 to 104824\n",
      "Data columns (total 4 columns):\n",
      " #   Column        Non-Null Count   Dtype  \n",
      "---  ------        --------------   -----  \n",
      " 0   id            104825 non-null  object \n",
      " 1   user_id       104825 non-null  int64  \n",
      " 2   session_date  104825 non-null  object \n",
      " 3   mb_used       104825 non-null  float64\n",
      "dtypes: float64(1), int64(1), object(2)\n",
      "memory usage: 3.2+ MB\n"
     ]
    }
   ],
   "source": [
    "# Imprime la información general/resumida sobre el DataFrame de internet\n",
    "internet_df.info(show_counts=True)"
   ]
  },
  {
   "cell_type": "code",
   "execution_count": 20,
   "metadata": {
    "id": "9r3x_XLw0q1C"
   },
   "outputs": [
    {
     "name": "stdout",
     "output_type": "stream",
     "text": [
      "         id  user_id session_date  mb_used\n",
      "0   1000_13     1000   2018-12-29    89.86\n",
      "1  1000_204     1000   2018-12-31     0.00\n",
      "2  1000_379     1000   2018-12-28   660.40\n",
      "3  1000_413     1000   2018-12-26   270.99\n",
      "4  1000_442     1000   2018-12-27   880.22\n"
     ]
    }
   ],
   "source": [
    "# Imprime una muestra de datos para el tráfico de internet\n",
    "print(internet_df.head())"
   ]
  },
  {
   "cell_type": "markdown",
   "metadata": {
    "id": "EzOG5ik30q1D"
   },
   "source": [
    "[Describe lo que ves y observas en la información general y en la muestra de datos impresa para el precio de datos anterior. ¿Hay algún problema (tipos de datos no adecuados, datos ausentes, etc.) que pudieran necesitar investigación y cambios adicionales? ¿Cómo se puede arreglar?]\n",
    "\n",
    "En el DF de internet `internet_df` observamos que vamos a tener que corregir el tipo de datos de `session_date` y también tendremos convertir la columna de `mb_used` de megabytes a gigabytes."
   ]
  },
  {
   "cell_type": "markdown",
   "metadata": {
    "id": "yA0tkPFg0q1D"
   },
   "source": [
    "### Corregir los datos"
   ]
  },
  {
   "cell_type": "markdown",
   "metadata": {
    "id": "zlZMuIEK0q1D"
   },
   "source": [
    "[Corrige los problemas obvios con los datos basándote en las observaciones iniciales.]"
   ]
  },
  {
   "cell_type": "code",
   "execution_count": 21,
   "metadata": {
    "id": "zVeanzdd0q1E"
   },
   "outputs": [
    {
     "name": "stdout",
     "output_type": "stream",
     "text": [
      "<class 'pandas.core.frame.DataFrame'>\n",
      "RangeIndex: 104825 entries, 0 to 104824\n",
      "Data columns (total 4 columns):\n",
      " #   Column        Non-Null Count   Dtype         \n",
      "---  ------        --------------   -----         \n",
      " 0   id            104825 non-null  object        \n",
      " 1   user_id       104825 non-null  int64         \n",
      " 2   session_date  104825 non-null  datetime64[ns]\n",
      " 3   mb_used       104825 non-null  float64       \n",
      "dtypes: datetime64[ns](1), float64(1), int64(1), object(1)\n",
      "memory usage: 3.2+ MB\n"
     ]
    }
   ],
   "source": [
    "# Cambiando tipo de datos de 'session_date' de object a tipo datetime64 \n",
    "internet_df['session_date'] = pd.to_datetime(internet_df['session_date'],format='%Y-%m-%d')\n",
    "\n",
    "internet_df.info()"
   ]
  },
  {
   "cell_type": "markdown",
   "metadata": {
    "id": "e8_mLF4a0q1E"
   },
   "source": [
    "### Enriquecer los datos"
   ]
  },
  {
   "cell_type": "markdown",
   "metadata": {
    "id": "xhNdn2tE0q1E"
   },
   "source": [
    "[Agrega factores adicionales a los datos si crees que pudieran ser útiles.]"
   ]
  },
  {
   "cell_type": "code",
   "execution_count": 22,
   "metadata": {
    "id": "ESiYPIEK0q1E"
   },
   "outputs": [
    {
     "name": "stdout",
     "output_type": "stream",
     "text": [
      "         id  user_id session_date  month   gb_used\n",
      "0   1000_13     1000   2018-12-29     12  0.087754\n",
      "1  1000_204     1000   2018-12-31     12  0.000000\n",
      "2  1000_379     1000   2018-12-28     12  0.644922\n",
      "3  1000_413     1000   2018-12-26     12  0.264639\n",
      "4  1000_442     1000   2018-12-27     12  0.859590\n"
     ]
    }
   ],
   "source": [
    "# Creando columna 'mes' basandonos en message_date\n",
    "internet_df['month'] = internet_df['session_date'].dt.month  \n",
    "\n",
    "# Creación de una nueva columna que contenga los gigabytes incluidos por mes\n",
    "internet_df['gb_used'] = internet_df['mb_used']/1024\n",
    "\n",
    "# Eliminación de columna de megabytes incluidos por mes\n",
    "internet_df.drop('mb_used',axis=1,inplace=True)\n",
    "\n",
    "print(internet_df.head())"
   ]
  },
  {
   "cell_type": "markdown",
   "metadata": {},
   "source": [
    "Se creó una nueva columna de `month` basada en `session_date` y se creo la columna `gb_used` que reemplaza a la columna `mb_used` que fue eliminada. "
   ]
  },
  {
   "cell_type": "markdown",
   "metadata": {
    "id": "3UA2cqIW0q1E"
   },
   "source": [
    "## Estudiar las condiciones de las tarifas"
   ]
  },
  {
   "cell_type": "markdown",
   "metadata": {
    "id": "T86Sqltq0q1F"
   },
   "source": [
    "Notas sobre las tarifas:\n",
    "1. Megaline redondea los segundos a minutos y los megabytes a gigabytes.\n",
    "2. Para llamadas, cada llamada individual se redondea: incluso si la llamada duró solo un segundo, se contará como un minuto. \n",
    "3. Para tráfico web, las sesiones web individuales no se redondean. En vez de esto, el total del mes se redondea hacia arriba. Si alguien usa 1025 megabytes este mes, se le cobrarán 2 gigabytes."
   ]
  },
  {
   "cell_type": "code",
   "execution_count": 23,
   "metadata": {
    "id": "i409op8p0q1F"
   },
   "outputs": [
    {
     "name": "stdout",
     "output_type": "stream",
     "text": [
      "   messages_included  minutes_included  usd_monthly_pay  usd_per_gb  \\\n",
      "0                 50               500               20          10   \n",
      "1               1000              3000               70           7   \n",
      "\n",
      "   usd_per_message  usd_per_minute plan_name  gb_per_month_included  \n",
      "0             0.03            0.03      surf                   15.0  \n",
      "1             0.01            0.01  ultimate                   30.0  \n"
     ]
    }
   ],
   "source": [
    "# Imprime las condiciones de la tarifa y asegúrate de que te quedan claras\n",
    "print(plans_df.head())"
   ]
  },
  {
   "cell_type": "markdown",
   "metadata": {
    "id": "hMR1tP5d0q1F"
   },
   "source": [
    "## Agregar datos por usuario\n",
    "\n",
    "[Ahora que los datos están limpios, agrega los datos por usuario y por periodo para que solo haya un registro por usuario y por periodo. Esto facilitará mucho el análisis posterior.]"
   ]
  },
  {
   "cell_type": "code",
   "execution_count": 24,
   "metadata": {
    "id": "A332cedB0q1G"
   },
   "outputs": [
    {
     "name": "stdout",
     "output_type": "stream",
     "text": [
      "         id  user_id  call_date  duration  month\n",
      "0   1000_93     1000 2018-12-27         9     12\n",
      "1  1000_145     1000 2018-12-27        14     12\n",
      "2  1000_247     1000 2018-12-27        15     12\n",
      "3  1000_309     1000 2018-12-28         6     12\n",
      "4  1000_380     1000 2018-12-30         5     12 \n",
      "\n",
      "Calls per month: \n",
      "    user_id  month  calls_month\n",
      "0     1000     12           16\n",
      "1     1001      8           27\n",
      "2     1001      9           49\n",
      "3     1001     10           65\n",
      "4     1001     11           64 \n",
      "\n"
     ]
    }
   ],
   "source": [
    "# Calcula el número de llamadas hechas por cada usuario al mes. Guarda el resultado.\n",
    "\n",
    "print(calls_df.head(),'\\n')\n",
    "\n",
    "# agrupación que cuenta las el número de llamadas hechas por mes guardándolo en la columna 'calls_month'\n",
    "calls_per_month =calls_df.groupby(['user_id','month'])['id'].count().reset_index(name='calls_month')\n",
    "\n",
    "print('Calls per month:','\\n',calls_per_month.head(),'\\n')"
   ]
  },
  {
   "cell_type": "code",
   "execution_count": 25,
   "metadata": {
    "id": "aw2cmuql0q1G"
   },
   "outputs": [
    {
     "name": "stdout",
     "output_type": "stream",
     "text": [
      "Minutes_used: \n",
      "    user_id  month  minutes_month\n",
      "0     1000     12            124\n",
      "1     1001      8            182\n",
      "2     1001      9            315\n",
      "3     1001     10            393\n",
      "4     1001     11            426 \n",
      "\n"
     ]
    }
   ],
   "source": [
    "# Calcula la cantidad de minutos usados por cada usuario al mes. Guarda el resultado.\n",
    "\n",
    "# agrupación que suma el total de los minutos usados por usuario por mes guardándolo en la columna 'minutes_month'\n",
    "minutes_used = calls_df.groupby(['user_id','month'])['duration'].sum().reset_index(name='minutes_month')\n",
    "print('Minutes_used:','\\n',minutes_used.head(),'\\n')"
   ]
  },
  {
   "cell_type": "code",
   "execution_count": 26,
   "metadata": {
    "id": "CcQvNHn60q1G"
   },
   "outputs": [
    {
     "name": "stdout",
     "output_type": "stream",
     "text": [
      "         id  user_id message_date  month\n",
      "0  1000_125     1000   2018-12-27     12\n",
      "1  1000_160     1000   2018-12-31     12\n",
      "2  1000_223     1000   2018-12-31     12\n",
      "3  1000_251     1000   2018-12-27     12\n",
      "4  1000_255     1000   2018-12-26     12 \n",
      "\n",
      "Messages per month: \n",
      "    user_id  month  messages_month\n",
      "0     1000     12              11\n",
      "1     1001      8              30\n",
      "2     1001      9              44\n",
      "3     1001     10              53\n",
      "4     1001     11              36 \n",
      "\n"
     ]
    }
   ],
   "source": [
    "# Calcula el número de mensajes enviados por cada usuario al mes. Guarda el resultado.\n",
    "\n",
    "print(messages_df.head(),'\\n')\n",
    "\n",
    "# agrupación que cuenta los mensajes enviados por mes guardándolo en la columna 'messages_month'\n",
    "messages_per_month = messages_df.groupby(['user_id','month'])['id'].count().reset_index(name='messages_month')\n",
    "print('Messages per month:','\\n',messages_per_month.head(),'\\n')"
   ]
  },
  {
   "cell_type": "code",
   "execution_count": 27,
   "metadata": {
    "id": "H1AqN2eG0q1H"
   },
   "outputs": [
    {
     "name": "stdout",
     "output_type": "stream",
     "text": [
      "Internet per month:\n",
      "    user_id  month   gb_month\n",
      "0     1000     12   1.856904\n",
      "1     1001      8   6.756982\n",
      "2     1001      9  13.002754\n",
      "3     1001     10  21.807119\n",
      "4     1001     11  18.070605 \n",
      "\n",
      "Internet per month:\n",
      "    user_id  month  gb_month\n",
      "0     1000     12         2\n",
      "1     1001      8         7\n",
      "2     1001      9        14\n",
      "3     1001     10        22\n",
      "4     1001     11        19\n"
     ]
    }
   ],
   "source": [
    "# Calcula el volumen del tráfico de Internet usado por cada usuario al mes. Guarda el resultado.\n",
    "\n",
    "# agrupación que suma los gigabytes consumidos por usuario por mes guardándolo en la columna 'gb_month'\n",
    "internet_per_month = internet_df.groupby(['user_id','month'])['gb_used'].sum().reset_index(name='gb_month')\n",
    "\n",
    "print('Internet per month:\\n',internet_per_month.head(),'\\n')\n",
    "\n",
    "# Redondeando hacia arriba el total de gigabytes consumidos por mes\n",
    "internet_per_month['gb_month'] = internet_per_month['gb_month'].apply(lambda x: mt.ceil(x))\n",
    "\n",
    "print('Internet per month:\\n',internet_per_month.head())"
   ]
  },
  {
   "cell_type": "code",
   "execution_count": 28,
   "metadata": {
    "id": "FW99ykyf0q1H"
   },
   "outputs": [
    {
     "name": "stdout",
     "output_type": "stream",
     "text": [
      "users_consumption_df: \n",
      "    user_id  month  calls_month  minutes_month  messages_month  gb_month  \\\n",
      "0     1000     12         16.0          124.0            11.0       2.0   \n",
      "1     1001      8         27.0          182.0            30.0       7.0   \n",
      "2     1001      9         49.0          315.0            44.0      14.0   \n",
      "3     1001     10         65.0          393.0            53.0      22.0   \n",
      "4     1001     11         64.0          426.0            36.0      19.0   \n",
      "\n",
      "       plan area  \n",
      "0  ultimate   GA  \n",
      "1      surf   WA  \n",
      "2      surf   WA  \n",
      "3      surf   WA  \n",
      "4      surf   WA   \n",
      "\n"
     ]
    }
   ],
   "source": [
    "# Fusiona los datos de llamadas, minutos, mensajes e Internet con base en user_id y month\n",
    "\n",
    "# fusionando las llamadas y minutos por mes a un nuevo df de consumo de usuarios\n",
    "users_consumption_df = pd.merge(calls_per_month,minutes_used,\n",
    "                            on=['user_id','month'],\n",
    "                            how='outer')\n",
    "\n",
    "#print('Users consumption df:','\\n',users_consumption_df.head(),'\\n')\n",
    "\n",
    "# fusionando los mensajes por mes al df de consumo de usuarios\n",
    "users_consumption_df = pd.merge(users_consumption_df,messages_per_month, \n",
    "                            on=['user_id','month'],\n",
    "                            how='outer')\n",
    "\n",
    "#print('Users consumption df:','\\n',users_consumption_df.head(),'\\n')\n",
    "\n",
    "# fusionando el internet usado por mes al df de consumo de usuarios\n",
    "users_consumption_df = pd.merge(users_consumption_df,internet_per_month, \n",
    "                            on=['user_id','month'],\n",
    "                            how='outer')\n",
    "\n",
    "#print('Users consumption df:','\\n',users_consumption_df.head(),'\\n')\n",
    "\n",
    "# agregando el tipo de plan y área por usuario a nuestro df de consumo de usuarios\n",
    "users_consumption_df = pd.merge(users_consumption_df, users_df[['user_id', 'plan','area']],\n",
    "                                on='user_id', how='left')\n",
    "\n",
    "print('users_consumption_df:','\\n',users_consumption_df.head(),'\\n')"
   ]
  },
  {
   "cell_type": "code",
   "execution_count": 29,
   "metadata": {},
   "outputs": [
    {
     "name": "stdout",
     "output_type": "stream",
     "text": [
      "users_consumption_df, valores ausentes: \n",
      " user_id             0\n",
      "month               0\n",
      "calls_month        35\n",
      "minutes_month      35\n",
      "messages_month    487\n",
      "gb_month           16\n",
      "plan                0\n",
      "area                0\n",
      "dtype: int64 \n",
      "\n",
      "users_consumption_df, valores ausentes: \n",
      " user_id           0\n",
      "month             0\n",
      "calls_month       0\n",
      "minutes_month     0\n",
      "messages_month    0\n",
      "gb_month          0\n",
      "plan              0\n",
      "area              0\n",
      "dtype: int64 \n",
      "\n"
     ]
    }
   ],
   "source": [
    "# Revisando valores ausentes\n",
    "print('users_consumption_df, valores ausentes:','\\n',users_consumption_df.isna().sum(),'\\n')\n",
    "\n",
    "# Reemplazando NaN con 0 en users_consumption_df\n",
    "def reemplzar_nan(users_consumption_df):\n",
    "    for column in users_consumption_df.columns:\n",
    "        users_consumption_df[column].fillna(0,inplace=True)\n",
    "\n",
    "reemplzar_nan(users_consumption_df)\n",
    "\n",
    "print('users_consumption_df, valores ausentes:','\\n',users_consumption_df.isna().sum(),'\\n')"
   ]
  },
  {
   "cell_type": "markdown",
   "metadata": {},
   "source": [
    "En este punto reemplazamos los valores ausentes en las columnas de `calls_month`, `minutes_month` y `gb_month` por ceros para poder proceder con los cálculos y el análisis de estos datos."
   ]
  },
  {
   "cell_type": "code",
   "execution_count": 30,
   "metadata": {
    "id": "0dNOXHag0q1H"
   },
   "outputs": [
    {
     "name": "stdout",
     "output_type": "stream",
     "text": [
      "users_consumption_df: \n",
      "    user_id  month  calls_month  minutes_month  messages_month  gb_month  \\\n",
      "0     1000     12         16.0          124.0            11.0       2.0   \n",
      "1     1001      8         27.0          182.0            30.0       7.0   \n",
      "2     1001      9         49.0          315.0            44.0      14.0   \n",
      "3     1001     10         65.0          393.0            53.0      22.0   \n",
      "4     1001     11         64.0          426.0            36.0      19.0   \n",
      "\n",
      "       plan area  messages_included  minutes_included  usd_monthly_pay  \\\n",
      "0  ultimate   GA               1000              3000               70   \n",
      "1      surf   WA                 50               500               20   \n",
      "2      surf   WA                 50               500               20   \n",
      "3      surf   WA                 50               500               20   \n",
      "4      surf   WA                 50               500               20   \n",
      "\n",
      "   usd_per_gb  usd_per_message  usd_per_minute  gb_per_month_included  \n",
      "0           7             0.01            0.01                   30.0  \n",
      "1          10             0.03            0.03                   15.0  \n",
      "2          10             0.03            0.03                   15.0  \n",
      "3          10             0.03            0.03                   15.0  \n",
      "4          10             0.03            0.03                   15.0   \n",
      "\n"
     ]
    }
   ],
   "source": [
    "# Añade la información de la tarifa\n",
    "\n",
    "# Agregando la información de planes a nuestro df de consumo de usuarios\n",
    "users_consumption_df = pd.merge(users_consumption_df,plans_df,\n",
    "                                left_on='plan',\n",
    "                                right_on='plan_name',\n",
    "                                how='left')\n",
    "\n",
    "# Eliminando columna duplicada de 'plans_name'\n",
    "users_consumption_df.drop('plan_name',axis=1,inplace=True)\n",
    "\n",
    "print('users_consumption_df:','\\n',users_consumption_df.head(),'\\n')\n"
   ]
  },
  {
   "cell_type": "code",
   "execution_count": 31,
   "metadata": {
    "id": "5FGCf_c60q1I"
   },
   "outputs": [
    {
     "name": "stdout",
     "output_type": "stream",
     "text": [
      "Users consumption df: \n",
      "    user_id  month  calls_month  minutes_month  messages_month  gb_month  \\\n",
      "0     1000     12         16.0          124.0            11.0       2.0   \n",
      "1     1001      8         27.0          182.0            30.0       7.0   \n",
      "2     1001      9         49.0          315.0            44.0      14.0   \n",
      "3     1001     10         65.0          393.0            53.0      22.0   \n",
      "4     1001     11         64.0          426.0            36.0      19.0   \n",
      "\n",
      "       plan area  messages_included  minutes_included  usd_monthly_pay  \\\n",
      "0  ultimate   GA               1000              3000               70   \n",
      "1      surf   WA                 50               500               20   \n",
      "2      surf   WA                 50               500               20   \n",
      "3      surf   WA                 50               500               20   \n",
      "4      surf   WA                 50               500               20   \n",
      "\n",
      "   usd_per_gb  usd_per_message  usd_per_minute  gb_per_month_included  \\\n",
      "0           7             0.01            0.01                   30.0   \n",
      "1          10             0.03            0.03                   15.0   \n",
      "2          10             0.03            0.03                   15.0   \n",
      "3          10             0.03            0.03                   15.0   \n",
      "4          10             0.03            0.03                   15.0   \n",
      "\n",
      "   extra_charge  total_charge  \n",
      "0          0.00         70.00  \n",
      "1          0.00         20.00  \n",
      "2          0.00         20.00  \n",
      "3         70.09         90.09  \n",
      "4         40.00         60.00   \n",
      "\n"
     ]
    }
   ],
   "source": [
    "# Calcula el ingreso mensual para cada usuario\n",
    "\n",
    "# Cálculo de cargo extra por consumos extras\n",
    "def extra_charge(row):\n",
    "    extra_consumption = 0\n",
    "    if row['minutes_included'] < row['minutes_month']:\n",
    "        extra_minutes = row['minutes_month'] - row['minutes_included']\n",
    "        extra_consumption += extra_minutes * row['usd_per_minute']\n",
    "    \n",
    "    if row['messages_included'] < row['messages_month']:\n",
    "        extra_messages = row['messages_month'] - row['messages_included']\n",
    "        extra_consumption += extra_messages * row['usd_per_message']\n",
    "    \n",
    "    if row['gb_per_month_included'] < row['gb_month']:\n",
    "        extra_gb = row['gb_month'] - row['gb_per_month_included']\n",
    "        extra_consumption += extra_gb * row['usd_per_gb']\n",
    "    \n",
    "    return extra_consumption\n",
    "\n",
    "# Aplicando la función y creando una columna nueva\n",
    "users_consumption_df['extra_charge'] = users_consumption_df.apply(extra_charge, axis=1)\n",
    "\n",
    "# Calcula el cobro total sumando el consumo extra + el pago mensual del plan \n",
    "users_consumption_df['total_charge'] = users_consumption_df['extra_charge'] + users_consumption_df['usd_monthly_pay']\n",
    "\n",
    "print('Users consumption df:','\\n',users_consumption_df.head(),'\\n')\n"
   ]
  },
  {
   "cell_type": "markdown",
   "metadata": {
    "id": "-jtyHzJb0q1I"
   },
   "source": [
    "## Estudia el comportamiento de usuario"
   ]
  },
  {
   "cell_type": "markdown",
   "metadata": {
    "id": "vtW4CJEe0q1J"
   },
   "source": [
    "### Llamadas"
   ]
  },
  {
   "cell_type": "code",
   "execution_count": 32,
   "metadata": {
    "id": "Jf5v5--k0q1J"
   },
   "outputs": [
    {
     "data": {
      "image/png": "[encoded data removed]",
      "text/plain": [
       "<Figure size 640x480 with 1 Axes>"
      ]
     },
     "metadata": {},
     "output_type": "display_data"
    }
   ],
   "source": [
    "# Compara la duración promedio de llamadas por cada plan y por cada mes. Traza un gráfico de barras para visualizarla.\n",
    "\n",
    "# Creando una DF con una tabla pivote que calcula la media de los minutos consumidos por cada plan por cada mes.\n",
    "calls_average_duration = users_consumption_df.pivot_table(index='month',\n",
    "                                                          columns='plan',\n",
    "                                                          values='minutes_month',\n",
    "                                                          aggfunc='mean')\n",
    "\n",
    "# Creando gráico de barras que compara la información de tipos de planes con la información de nuestro DF\n",
    "calls_average_duration.plot(kind='bar',\n",
    "                            xlabel='Month',\n",
    "                            ylabel='Average minutes',\n",
    "                            title='Average calls duration per month',\n",
    "                            width=0.8,\n",
    "                            color=['blue','magenta'])\n",
    "\n",
    "plt.show()"
   ]
  },
  {
   "cell_type": "code",
   "execution_count": 33,
   "metadata": {
    "id": "QoLqW1S_0q1J"
   },
   "outputs": [
    {
     "data": {
      "image/png": "[encoded data removed]",
      "text/plain": [
       "<Figure size 640x480 with 1 Axes>"
      ]
     },
     "metadata": {},
     "output_type": "display_data"
    }
   ],
   "source": [
    "# Compara el número de minutos mensuales que necesitan los usuarios de cada plan. Traza un histograma.\n",
    "\n",
    "# Filtrando el DataFrame por plan y minutos consumidos por mes.\n",
    "minutes_surf = users_consumption_df[users_consumption_df['plan'] == 'surf']['minutes_month']\n",
    "minutes_ultimate = users_consumption_df[users_consumption_df['plan'] == 'ultimate']['minutes_month']\n",
    "\n",
    "# Creando el histograma\n",
    "plt.hist(minutes_surf, bins=10, alpha=0.7, label='surf', color='blue')\n",
    "plt.hist(minutes_ultimate, bins=10, alpha=0.7, label='ultimate', color='magenta')\n",
    "\n",
    "plt.title('Monthly Minutes Usage by Plan')\n",
    "plt.xlabel('Monthly Minutes')\n",
    "plt.ylabel('Number of users')\n",
    "plt.legend()\n",
    "\n",
    "plt.show()\n"
   ]
  },
  {
   "cell_type": "markdown",
   "metadata": {
    "id": "bLS9T8OH0q1K"
   },
   "source": [
    "[Calcula la media y la variable de la duración de las llamadas para averiguar si los usuarios de los distintos planes se comportan de forma diferente al realizar sus llamadas.]"
   ]
  },
  {
   "cell_type": "code",
   "execution_count": 34,
   "metadata": {},
   "outputs": [],
   "source": [
    "# Filtrando DFs por plan\n",
    "surf_consumption = users_consumption_df[users_consumption_df['plan']=='surf']\n",
    "ultimate_consumption = users_consumption_df[users_consumption_df['plan']=='ultimate']"
   ]
  },
  {
   "cell_type": "code",
   "execution_count": 51,
   "metadata": {
    "id": "oSndbAnt0q1K"
   },
   "outputs": [
    {
     "name": "stdout",
     "output_type": "stream",
     "text": [
      "Media de la duración mensual de llamadas\n",
      "General: 429.283 \n",
      "Surf: 428.75 \n",
      "Ultimate: 430.45 \n",
      "\n",
      "Varianza de la duración mensual de llamadas\n",
      "General: 55822.823 \n",
      "Surf: 54933.335 \n",
      "Ultimate: 57764.125\n"
     ]
    }
   ],
   "source": [
    "# Calcula la media y la varianza de la duración mensual de llamadas.\n",
    "\n",
    "# Calculo de media y varianza de los minutos de llamadas general\n",
    "calls_duration_mean = users_consumption_df['minutes_month'].mean()\n",
    "calls_duration_variance = np.var(users_consumption_df['minutes_month'])\n",
    "\n",
    "# Calculo de medias por plan\n",
    "surf_duration_mean = surf_consumption['minutes_month'].mean()\n",
    "ultimate_duraton_mean = ultimate_consumption['minutes_month'].mean()\n",
    "\n",
    "# Calculo de varianzas por plan\n",
    "surf_duration_std_dev = np.var(surf_consumption['minutes_month'])\n",
    "ultimate_duration_std_dev = np.var(ultimate_consumption['minutes_month'])\n",
    "\n",
    "print('Media de la duración mensual de llamadas\\nGeneral:',round(calls_duration_mean,3),'\\nSurf:',round(surf_duration_mean,3),'\\nUltimate:',round(ultimate_duraton_mean,3),'\\n')\n",
    "print('Varianza de la duración mensual de llamadas\\nGeneral:',round(calls_duration_variance,3),'\\nSurf:',round(surf_duration_std_dev,3),'\\nUltimate:',round(ultimate_duration_std_dev,3))\n"
   ]
  },
  {
   "cell_type": "code",
   "execution_count": 36,
   "metadata": {},
   "outputs": [
    {
     "name": "stdout",
     "output_type": "stream",
     "text": [
      "Media de numero mensual de llamadas\n",
      "General: 60.068 \n",
      "Surf: 59.812 \n",
      "Ultimate: 60.626 \n",
      "\n"
     ]
    }
   ],
   "source": [
    "# Cálculo de las medias de número de llamadas por plan\n",
    "\n",
    "# Calculo de media y varianza de los minutos de llamadas general\n",
    "calls_mean = users_consumption_df['calls_month'].mean()\n",
    "\n",
    "# Calculo de medias por plan\n",
    "surf_calls_mean = surf_consumption['calls_month'].mean()\n",
    "ultimate_calls_mean = ultimate_consumption['calls_month'].mean()\n",
    "\n",
    "print('Media de numero mensual de llamadas\\nGeneral:',round(calls_mean,3),'\\nSurf:',round(surf_calls_mean,3),'\\nUltimate:',round(ultimate_calls_mean,3),'\\n')"
   ]
  },
  {
   "cell_type": "code",
   "execution_count": 37,
   "metadata": {
    "id": "nZzoRUKc0q1K"
   },
   "outputs": [
    {
     "data": {
      "text/plain": [
       "<Axes: ylabel='minutes_month'>"
      ]
     },
     "execution_count": 37,
     "metadata": {},
     "output_type": "execute_result"
    },
    {
     "data": {
      "image/png": "[encoded data removed]",
      "text/plain": [
       "<Figure size 640x480 with 1 Axes>"
      ]
     },
     "metadata": {},
     "output_type": "display_data"
    }
   ],
   "source": [
    "# Traza un diagrama de caja para visualizar la distribución de la duración mensual de llamadas\n",
    "#sns.boxplot(users_consumption_df['minutes_month'])\n",
    "sns.boxplot(surf_consumption['minutes_month'])\n",
    "#sns.boxplot(ultimate_consumption['minutes_month'])"
   ]
  },
  {
   "cell_type": "markdown",
   "metadata": {
    "id": "r627zBO50q1K"
   },
   "source": [
    "El comportamiento de los usuarios respecto a las llamadas es en general el mismo. El promedio mensual de duración de llamadas es de 429 min, 429 min en el plan Surf y 430 en el plan Ultimate. \n",
    "\n",
    "Si bien la mayor parte de los meses la duración de llamadas es la misma entre ambos planes o incluso la duración es inferior para aquellos usuarios en el plan Ultimate, en el mes de febrero (2) podemos observar que hubo un incremento sustancial para la duración de llamadas de Ultimate, el comportamineto de este mes es lo que hace que el promedio de la duración de llamadas de Ultimate sea superior a Surf. \n",
    "\n",
    "También vale la pena mencionar que existen bastantes excepciones en la duración de llamadas de los usuarios del plan Surf y que dependiendo de cual sea su cobro mensual contemplando sus excesos podría valer la pena cambiarse a un plan Ultimate.\n",
    "\n",
    "De igual manera, para los usuarios del plan Ultimate parece que solo algunos de ellos consumen más de la media de 430min, por lo cual en el caso de las llamadas a la mayoría de los usuarios de este plan no les conviene estar en este plan.\n",
    "\n",
    "En conclusión, los usuarios en promedio consumen la misma cantidad de minutos, generalmente los usuarios de Surf consumen más minutos durante el mes pero existen excepciones, y en general ninguno de los dos grupos excede la capacidad de sus planes."
   ]
  },
  {
   "cell_type": "markdown",
   "metadata": {
    "id": "8idKy8Wh0q1L"
   },
   "source": [
    "### Mensajes"
   ]
  },
  {
   "cell_type": "code",
   "execution_count": 38,
   "metadata": {
    "id": "NXLxiTit0q1L"
   },
   "outputs": [
    {
     "data": {
      "text/plain": [
       "<Axes: title={'center': 'Messages sent per month'}, xlabel='Month', ylabel='Messages per month'>"
      ]
     },
     "execution_count": 38,
     "metadata": {},
     "output_type": "execute_result"
    },
    {
     "data": {
      "image/png": "[encoded data removed]",
      "text/plain": [
       "<Figure size 640x480 with 1 Axes>"
      ]
     },
     "metadata": {},
     "output_type": "display_data"
    }
   ],
   "source": [
    "# Comprara el número de mensajes que tienden a enviar cada mes los usuarios de cada plan\n",
    "messages_pivot = users_consumption_df.pivot_table(index='month',\n",
    "                                                  columns='plan',\n",
    "                                                  values='messages_month')\n",
    "\n",
    "messages_pivot.plot(kind='bar',xlabel='Month',ylabel='Messages per month',title='Messages sent per month',width=0.8,color=['blue','magenta'])"
   ]
  },
  {
   "cell_type": "code",
   "execution_count": 39,
   "metadata": {
    "id": "dtFwCGAp0q1M"
   },
   "outputs": [
    {
     "name": "stdout",
     "output_type": "stream",
     "text": [
      "Media de mensajes enviados al mes\n",
      "General: 33.167 \n",
      "Surf: 31.16 \n",
      "Ultimate: 37.551 \n",
      "\n",
      "Varianza de mensajes enviados al mes\n",
      "General: 1160.264 \n",
      "Surf: 1126.008 \n",
      "Ultimate: 1207.078\n"
     ]
    }
   ],
   "source": [
    "# Calcula la media y la varianza de los mensajes enviados mensualmente\n",
    "\n",
    "# Cálculos de medias\n",
    "messages_mu = users_consumption_df['messages_month'].mean() \n",
    "messages_mu_surf = surf_consumption['messages_month'].mean()\n",
    "messages_mu_ultimate = ultimate_consumption['messages_month'].mean()\n",
    "\n",
    "# Cálculos de varianzas\n",
    "messages_std_dev = np.var(users_consumption_df['messages_month']) # varianza de mensajes enviados general\n",
    "surf_messages_std_dev = np.var(surf_consumption['messages_month']) # varianza de mensajes enviados de surf\n",
    "ultimate_messages_std_dev = np.var(ultimate_consumption['messages_month']) #varianza de mensajes enviados de ultimate\n",
    "\n",
    "print('Media de mensajes enviados al mes\\nGeneral:',round(messages_mu,3),'\\nSurf:',round(messages_mu_surf,3),'\\nUltimate:',round(messages_mu_ultimate,3),'\\n')\n",
    "print('Varianza de mensajes enviados al mes\\nGeneral:',round(messages_std_dev,3),'\\nSurf:',round(surf_messages_std_dev,3),'\\nUltimate:',round(ultimate_messages_std_dev,3))"
   ]
  },
  {
   "cell_type": "code",
   "execution_count": 40,
   "metadata": {},
   "outputs": [
    {
     "data": {
      "text/plain": [
       "<Axes: ylabel='messages_month'>"
      ]
     },
     "execution_count": 40,
     "metadata": {},
     "output_type": "execute_result"
    },
    {
     "data": {
      "image/png": "[encoded data removed]",
      "text/plain": [
       "<Figure size 640x480 with 1 Axes>"
      ]
     },
     "metadata": {},
     "output_type": "display_data"
    }
   ],
   "source": [
    "# Traza un diagrama de caja para visualizar la distribución los mensajes enviados mensualmente\n",
    "#sns.boxplot(users_consumption_df['messages_month'])\n",
    "sns.boxplot(surf_consumption['messages_month'])\n",
    "#sns.boxplot(ultimate_consumption['messages_month'])"
   ]
  },
  {
   "cell_type": "markdown",
   "metadata": {
    "id": "390SSL480q1M"
   },
   "source": [
    "El comportamiento de los usuarios con respecto en general la cantidad de mensajes enviados por mes es superior para los usuarios del plan Ultimate. \n",
    "En promedio se mandan 33 mensajes al mes, 31 para el plan Surf y 38 para el plan Ultimate.\n",
    "\n",
    "Existe una cantidad significante de excepciones y en el caso del plan Surf hay bastantes usuarios que envían más de 50 mensajes al mes en promedio. En este caso vadría la pena considerar aumentar su plan a un Ultimate en caso de que el cargo por este excedente compense los $50 extras.\n",
    "\n",
    "En general los usuarios del plan Ultimate sí mandan más mensajes que los usuarios del plan Surf, pero solo en el mes de diciembre (12) este promedio supera 50 mensajes, por lo general parece que la mayoría de los usuarios Ultimate no necesitarían este plan."
   ]
  },
  {
   "cell_type": "markdown",
   "metadata": {
    "id": "42YSypXz0q1M"
   },
   "source": [
    "### Internet"
   ]
  },
  {
   "cell_type": "code",
   "execution_count": 41,
   "metadata": {
    "id": "GRI_R7xF0q1L"
   },
   "outputs": [
    {
     "data": {
      "text/plain": [
       "<Axes: title={'center': 'Internet consumed per month'}, xlabel='Month', ylabel='GB consumed'>"
      ]
     },
     "execution_count": 41,
     "metadata": {},
     "output_type": "execute_result"
    },
    {
     "data": {
      "image/png": "[encoded data removed]",
      "text/plain": [
       "<Figure size 640x480 with 1 Axes>"
      ]
     },
     "metadata": {},
     "output_type": "display_data"
    }
   ],
   "source": [
    "# Compara la cantidad de tráfico de Internet consumido por usuarios por plan\n",
    "\n",
    "internet_pivot = users_consumption_df.pivot_table(index='month',\n",
    "                                               columns='plan',\n",
    "                                               values='gb_month')\n",
    "\n",
    "internet_pivot.plot(kind='bar',xlabel='Month',ylabel='GB consumed',title='Internet consumed per month',width=0.8,color=['blue','magenta'])\n"
   ]
  },
  {
   "cell_type": "code",
   "execution_count": 42,
   "metadata": {
    "id": "5VlyJ9ry0q1N"
   },
   "outputs": [
    {
     "name": "stdout",
     "output_type": "stream",
     "text": [
      "Media del internet consumido por mes\n",
      "General: 16.87 \n",
      "Surf: 16.671 \n",
      "Ultimate: 17.307 \n",
      "\n",
      "Varianza del internet consumido por mes\n",
      "General: 60.754 \n",
      "Surf: 61.544 \n",
      "Ultimate: 58.749\n"
     ]
    }
   ],
   "source": [
    "# Calcula la media y la varianza de los gigabytes consumidos mensualmentes\n",
    "\n",
    "# Cálculos de medias\n",
    "internet_consumption_mu = users_consumption_df['gb_month'].mean()  # media general\n",
    "internet_mu_surf = surf_consumption['gb_month'].mean()\n",
    "internet_mu_ultimate = ultimate_consumption['gb_month'].mean()\n",
    "\n",
    "# Cálculos de varianzas\n",
    "internet_consumption_std_dev = np.var(users_consumption_df['gb_month']) # varianza de mensajes enviados general\n",
    "surf_internet_std_dev = np.var(surf_consumption['gb_month']) # varianza de mensajes enviados de surf\n",
    "ultimate_internet_std_dev = np.var(ultimate_consumption['gb_month']) #varianza de mensajes enviados de ultimate\n",
    "\n",
    "print('Media del internet consumido por mes\\nGeneral:',round(internet_consumption_mu,3),'\\nSurf:',round(internet_mu_surf,3),'\\nUltimate:',round(internet_mu_ultimate,3),'\\n')\n",
    "print('Varianza del internet consumido por mes\\nGeneral:',round(internet_consumption_std_dev,3),'\\nSurf:',round(surf_internet_std_dev,3),'\\nUltimate:',round(ultimate_internet_std_dev,3))\n",
    "\n"
   ]
  },
  {
   "cell_type": "code",
   "execution_count": 43,
   "metadata": {},
   "outputs": [
    {
     "data": {
      "text/plain": [
       "<Axes: ylabel='gb_month'>"
      ]
     },
     "execution_count": 43,
     "metadata": {},
     "output_type": "execute_result"
    },
    {
     "data": {
      "image/png": "[encoded data removed]",
      "text/plain": [
       "<Figure size 640x480 with 1 Axes>"
      ]
     },
     "metadata": {},
     "output_type": "display_data"
    }
   ],
   "source": [
    "#sns.boxplot(users_consumption_df['gb_month'])\n",
    "#sns.boxplot(surf_consumption['gb_month'])\n",
    "sns.boxplot(ultimate_consumption['gb_month'])"
   ]
  },
  {
   "cell_type": "markdown",
   "metadata": {
    "id": "UN9zwuMP0q1N"
   },
   "source": [
    "El comportamiento de los usuarios con respecto a los gigabytes consumidos, podemos observar que pocas veces los usuarios del plan Surf consumen máximo 15gb parece que solo los primeros meses del año se mantienen al margen de lo que su plan incluye, gen general sí, los usuarios del plan Ultimate consumen más internet que los usuarios Surf que tiene sentido.\n",
    "\n",
    "En promedio los usuarios consumen 16.97gb al mes, los usuarios Surf consumen 16.67gb y los usuarios Ultimate 17.30. \n",
    "El promedio de los datos consumidos por el plan Surf no tiene sentido, parece que en promedio estos usuarios pagan como mínimo $20 extras cada mes. A su vez parece que los usuarios Ultimate raras veces consumen más internet del incluido en sus planes, e inclusive consumen mucho menos internet del que tienen disponible."
   ]
  },
  {
   "cell_type": "markdown",
   "metadata": {
    "id": "tCijq3260q1N"
   },
   "source": [
    "## Ingreso"
   ]
  },
  {
   "cell_type": "markdown",
   "metadata": {
    "id": "9nq5IAcy0q1O"
   },
   "source": [
    "[Del mismo modo que has estudiado el comportamiento de los usuarios, describe estadísticamente los ingresos de los planes.]"
   ]
  },
  {
   "cell_type": "code",
   "execution_count": 44,
   "metadata": {
    "id": "tz-dq_V00q1O"
   },
   "outputs": [
    {
     "data": {
      "text/plain": [
       "<Axes: title={'center': 'Income per month'}, xlabel='Month', ylabel='Income'>"
      ]
     },
     "execution_count": 44,
     "metadata": {},
     "output_type": "execute_result"
    },
    {
     "data": {
      "image/png": "[encoded data removed]",
      "text/plain": [
       "<Figure size 640x480 with 1 Axes>"
      ]
     },
     "metadata": {},
     "output_type": "display_data"
    }
   ],
   "source": [
    "income_pivot = users_consumption_df.pivot_table(index='month',\n",
    "                                               columns='plan',\n",
    "                                               values='total_charge')\n",
    "\n",
    "income_pivot.plot(kind='bar',xlabel='Month',ylabel='Income',title='Income per month',width=0.8,color=['blue','magenta'])\n"
   ]
  },
  {
   "cell_type": "code",
   "execution_count": 45,
   "metadata": {
    "id": "0Y1v8ZUz0q1P"
   },
   "outputs": [
    {
     "name": "stdout",
     "output_type": "stream",
     "text": [
      "Media de los ingresos mensuales\n",
      "General: 64.351 \n",
      "Surf: 60.706 \n",
      "Ultimate: 72.314 \n",
      "\n",
      "Varianza de los ingresos mensuales\n",
      "General: 2172.937 \n",
      "Surf: 3065.885 \n",
      "Ultimate: 129.668\n"
     ]
    }
   ],
   "source": [
    "# Calcula la media y la varianza de los gigabytes consumidos mensualmentes\n",
    "\n",
    "# Cálculos de medias\n",
    "income_mu = users_consumption_df['total_charge'].mean()\n",
    "income_mu_surf = surf_consumption['total_charge'].mean()\n",
    "income_mu_ultimate = ultimate_consumption['total_charge'].mean()\n",
    "\n",
    "# Cálculos de varianzas\n",
    "income_std_dev = np.var(users_consumption_df['total_charge'])\n",
    "surf_income_std_dev = np.var(surf_consumption['total_charge']) # varianza de mensajes enviados de surf\n",
    "ultimate_income_std_dev = np.var(ultimate_consumption['total_charge']) #varianza de mensajes enviados de ultimate\n",
    "\n",
    "\n",
    "print('Media de los ingresos mensuales\\nGeneral:',round(income_mu,3),'\\nSurf:',round(income_mu_surf,3),'\\nUltimate:',round(income_mu_ultimate,3),'\\n')\n",
    "print('Varianza de los ingresos mensuales\\nGeneral:',round(income_std_dev,3),'\\nSurf:',round(surf_income_std_dev,3),'\\nUltimate:',round(ultimate_income_std_dev,3))"
   ]
  },
  {
   "cell_type": "code",
   "execution_count": 46,
   "metadata": {
    "id": "bYmwxyVh0q1P"
   },
   "outputs": [
    {
     "data": {
      "text/plain": [
       "<Axes: ylabel='total_charge'>"
      ]
     },
     "execution_count": 46,
     "metadata": {},
     "output_type": "execute_result"
    },
    {
     "data": {
      "image/png": "[encoded data removed]",
      "text/plain": [
       "<Figure size 640x480 with 1 Axes>"
      ]
     },
     "metadata": {},
     "output_type": "display_data"
    }
   ],
   "source": [
    "#sns.boxplot(users_consumption_df['total_charge'])\n",
    "sns.boxplot(surf_consumption['total_charge'])\n",
    "#sns.boxplot(ultimate_consumption['total_charge'])"
   ]
  },
  {
   "cell_type": "markdown",
   "metadata": {
    "id": "KAFidcXZ0q1P"
   },
   "source": [
    "En el caso de los ingresos de los usuarios, el promedio general es de $64, para los usuarios de Surf es de $61 ($41 más que su plan) y para los usuarios Ultimate el promedio es de $72.\n",
    "\n",
    "En este caso es claro que el grupo de usuarios Ultimate tiene un ingreso mayor a los usuarios Surf durante todo el año, pero curiosmente su promedio respectivo no está tan alejado uno del otro. Esto se debe a que para los ingresos de los usuarios Ultimate existe una variación estándar muy baja 129, sobretodo en comparación a la desviación estándar del grupo de usuarios Surf de 3,065, esto significa que existe una gran cantidad de usuarios que gastan incluso más que estos $61 promedios. "
   ]
  },
  {
   "cell_type": "markdown",
   "metadata": {
    "id": "ajJ7VKeI0q1Q"
   },
   "source": [
    "## Prueba las hipótesis estadísticas"
   ]
  },
  {
   "cell_type": "markdown",
   "metadata": {
    "id": "IQwa_hsh0q1Q"
   },
   "source": [
    "Nuestra hipótesis nula es confirmar si los ingresos promedio procedentes de los usuarios de los planes Ultimate y Surf son similares.\n",
    "Establecemos el nivel de significación en 0.05."
   ]
  },
  {
   "cell_type": "code",
   "execution_count": 47,
   "metadata": {},
   "outputs": [
    {
     "name": "stdout",
     "output_type": "stream",
     "text": [
      "valor p: 3.1703905481135736e-13 %\n",
      "Rechazamos la hipótesis nula\n"
     ]
    }
   ],
   "source": [
    "alpha = 0.05\n",
    "\n",
    "results = st.ttest_ind(surf_consumption['total_charge'],ultimate_consumption['total_charge'],equal_var=False)\n",
    "\n",
    "print('valor p:',results.pvalue*100,'%')\n",
    "\n",
    "if (results.pvalue < alpha):\n",
    "    print(\"Rechazamos la hipótesis nula\")\n",
    "else:\n",
    "    print(\"No podemos rechazar la hipótesis nula\")\n"
   ]
  },
  {
   "cell_type": "markdown",
   "metadata": {},
   "source": [
    "Se rechaza la hipótesis nula, los ingresos de los usuarios de Ultimate y Surf son diferentes."
   ]
  },
  {
   "cell_type": "markdown",
   "metadata": {
    "id": "tCcAruM60q1R"
   },
   "source": [
    "[Prueba la hipótesis de que el ingreso promedio de los usuarios del área NY-NJ es diferente al de los usuarios de otras regiones.]"
   ]
  },
  {
   "cell_type": "code",
   "execution_count": 50,
   "metadata": {},
   "outputs": [
    {
     "name": "stdout",
     "output_type": "stream",
     "text": [
      "1890.5177172681156\n",
      "2223.8866958162175\n"
     ]
    }
   ],
   "source": [
    "areas_looked_mask = users_consumption_df[users_consumption_df['area'].str.contains('NY-NJ')]['area'].unique() # filtrando el DF  por las áreas que contengan 'NY-NJ'\n",
    "\n",
    "in_area = users_consumption_df[users_consumption_df['area'].isin(areas_looked_mask)]['total_charge'] # filtrando los ingresos dentro el área buscada\n",
    "not_in_area = users_consumption_df[~users_consumption_df['area'].isin(areas_looked_mask)]['total_charge'] # filtrando los ingresos fuera el área buscada\n",
    "\n",
    "# calculando las desviaciones estándar de cada filtro\n",
    "in_area_std_dev = np.var(in_area)\n",
    "not_in_area_std_dev = np.var(not_in_area)\n",
    "\n",
    "# calculando las desviaciones estándar de cada filtro\n",
    "in_area_std_dev = np.var(in_area)\n",
    "not_in_area_std_dev = np.var(not_in_area)\n",
    "\n",
    "# revisando la similitud de las desviaciones estándar de cada serie\n",
    "print(in_area_std_dev)\n",
    "print(not_in_area_std_dev)\n",
    "\n"
   ]
  },
  {
   "cell_type": "markdown",
   "metadata": {},
   "source": [
    "Nuestra hipótesis nula es confirmar si el ingreso promedio de los usuarios del área NY-NJ es similar al de los usuarios de otras regiones.\n",
    "Se establece el nivel de significación en 0.05."
   ]
  },
  {
   "cell_type": "code",
   "execution_count": 49,
   "metadata": {
    "id": "Cqcj7wrZ0q1S"
   },
   "outputs": [
    {
     "name": "stdout",
     "output_type": "stream",
     "text": [
      "valor p: 4.355743162134244 %\n",
      "Rechazamos la hipótesis nula\n"
     ]
    }
   ],
   "source": [
    "# Prueba las hipótesis\n",
    "test = st.ttest_ind(in_area,not_in_area,equal_var=True)\n",
    "\n",
    "alpha = 0.05\n",
    "\n",
    "print('valor p:',test.pvalue*100,'%')\n",
    "\n",
    "if (test.pvalue < alpha):\n",
    "    print(\"Rechazamos la hipótesis nula\")\n",
    "else:\n",
    "    print(\"No podemos rechazar la hipótesis nula\")\n"
   ]
  },
  {
   "cell_type": "markdown",
   "metadata": {},
   "source": [
    "El ingreso de los usuarios del área NY-NJ es diferente al de los usuarios de otras regiones."
   ]
  },
  {
   "cell_type": "markdown",
   "metadata": {},
   "source": [
    "## Conclusión general \n",
    "\n",
    "En el caso de llamadas el comportamiento de los usuarios no varía significativamente de un plan a otro.\n",
    "Para los mensajes los usuarios del plan Ultimate envían más mensajes que los usuarios del plan Surf y en promedio no consumen más de 50 mensajes en ninguno de los dos grupos.\n",
    "En el caso de internet, tampoco existe una diferencia significativa entre la cantidad de gigabyes usados por plan pero, lo relevante de este punto es que los usuarios del plan Surf consumen en promedio ~2gb más de lo que su plan incluye.\n",
    "Y finalmente para los ingresos, a primera vista los ingresos de ambos grupos son similares en promedio, pero, cuando revisamos la desviación estándar nos damos cuenta que realmente existen bastantes usuarios que se alejan de la media y que probablemente muevan este promedio hacia arriba, también cuando realizamos un t-test para probar la similitud entre estos dos grupos nos encontramos con que se rechaza la hipótesis nula, que quiere decir que los ingresos de ambos grupos son diferentes.\n",
    "\n",
    "En general consideramos que Megaline podría ofrecer únicamente estos dos planes por propia conveniencia puesto que si se creara un tercero plan 'X' con una cantidad de 20gb para internet, 100 mensajes y 1,000 minutos de llamadas por digamos $40 la mayoría de sus usuarios se moverían a este plan y esto podría traer consecuencias negativas para los ingresos de Megaline pues la mayoría de clientes de plan Ultimate no consumen todo lo que incluye su plan y los usuarios del plan Surf también se moverían a este plan y dejarían de recibir $20 extras cada mes. Esto se tendría que estudiar más en un ejercicio dedicado para este tema. Otro punto a considerar con esta información es que si existe competencia que se de cuenta que existe un mercado potencial para las cifras del plan 'X' podrían crear una competencia bastante fuerte para Megaline.\n"
   ]
  }
 ],
 "metadata": {
  "ExecuteTimeLog": [
   {
    "duration": 828,
    "start_time": "2021-11-16T09:21:11.304Z"
   },
   {
    "duration": 893,
    "start_time": "2021-11-16T09:21:17.728Z"
   },
   {
    "duration": 1150,
    "start_time": "2021-11-16T09:21:29.568Z"
   },
   {
    "duration": 3,
    "start_time": "2021-11-16T09:24:14.495Z"
   },
   {
    "duration": 120,
    "start_time": "2021-11-16T09:24:46.630Z"
   },
   {
    "duration": 3,
    "start_time": "2021-11-16T09:28:27.882Z"
   },
   {
    "duration": 4,
    "start_time": "2021-11-16T09:29:54.281Z"
   },
   {
    "duration": 3,
    "start_time": "2021-11-16T09:30:45.936Z"
   },
   {
    "duration": 4,
    "start_time": "2021-11-16T09:31:06.300Z"
   },
   {
    "duration": 113,
    "start_time": "2021-11-16T09:31:37.208Z"
   },
   {
    "duration": 143,
    "start_time": "2021-11-16T09:31:48.656Z"
   },
   {
    "duration": 98,
    "start_time": "2021-11-16T09:31:55.678Z"
   },
   {
    "duration": 3,
    "start_time": "2021-11-16T09:32:08.535Z"
   },
   {
    "duration": 111,
    "start_time": "2021-11-16T09:32:10.120Z"
   },
   {
    "duration": 3,
    "start_time": "2021-11-16T09:32:15.732Z"
   },
   {
    "duration": 4,
    "start_time": "2021-11-16T09:32:29.423Z"
   },
   {
    "duration": 3,
    "start_time": "2021-11-16T10:03:03.074Z"
   },
   {
    "duration": 3,
    "start_time": "2021-11-16T10:10:01.288Z"
   },
   {
    "duration": 3,
    "start_time": "2021-11-16T10:10:46.923Z"
   },
   {
    "duration": 121,
    "start_time": "2021-11-16T10:37:46.494Z"
   },
   {
    "duration": 125,
    "start_time": "2021-11-16T10:38:20.632Z"
   },
   {
    "duration": 112,
    "start_time": "2021-11-16T10:46:53.001Z"
   },
   {
    "duration": 110,
    "start_time": "2021-11-16T10:48:25.775Z"
   },
   {
    "duration": 3,
    "start_time": "2021-11-16T10:50:18.720Z"
   },
   {
    "duration": 4,
    "start_time": "2021-11-16T10:50:37.649Z"
   },
   {
    "duration": 2,
    "start_time": "2021-11-16T10:50:51.884Z"
   },
   {
    "duration": 3,
    "start_time": "2021-11-16T10:51:56.237Z"
   },
   {
    "duration": 101,
    "start_time": "2021-11-16T10:53:13.791Z"
   },
   {
    "duration": 3,
    "start_time": "2021-11-16T10:55:59.186Z"
   },
   {
    "duration": 3,
    "start_time": "2021-11-16T10:56:10.751Z"
   },
   {
    "duration": 3,
    "start_time": "2021-11-16T10:56:49.038Z"
   },
   {
    "duration": 3,
    "start_time": "2021-11-16T10:56:49.174Z"
   },
   {
    "duration": 4,
    "start_time": "2021-11-16T10:56:49.414Z"
   },
   {
    "duration": 3,
    "start_time": "2021-11-16T10:56:49.680Z"
   },
   {
    "duration": 3,
    "start_time": "2021-11-16T10:56:50.370Z"
   },
   {
    "duration": 114,
    "start_time": "2021-11-16T10:59:34.518Z"
   },
   {
    "duration": 3,
    "start_time": "2021-11-16T11:01:41.201Z"
   },
   {
    "duration": 116,
    "start_time": "2021-11-16T11:01:48.754Z"
   },
   {
    "duration": 3,
    "start_time": "2021-11-16T11:02:16.685Z"
   },
   {
    "duration": 3,
    "start_time": "2021-11-16T11:02:19.479Z"
   },
   {
    "duration": 3,
    "start_time": "2021-11-16T11:02:47.067Z"
   },
   {
    "duration": 3,
    "start_time": "2021-11-16T11:02:49.353Z"
   },
   {
    "duration": 3,
    "start_time": "2021-11-16T11:03:07.835Z"
   },
   {
    "duration": 3,
    "start_time": "2021-11-16T11:03:07.953Z"
   },
   {
    "duration": 112,
    "start_time": "2021-11-16T11:07:52.072Z"
   },
   {
    "duration": 187,
    "start_time": "2021-11-16T11:09:23.468Z"
   },
   {
    "duration": 4,
    "start_time": "2021-11-16T11:10:01.455Z"
   },
   {
    "duration": 3,
    "start_time": "2021-11-16T11:10:05.069Z"
   },
   {
    "duration": 4,
    "start_time": "2021-11-16T11:10:13.376Z"
   },
   {
    "duration": 3,
    "start_time": "2021-11-16T11:10:14.434Z"
   },
   {
    "duration": 3,
    "start_time": "2021-11-16T11:10:22.853Z"
   },
   {
    "duration": 4,
    "start_time": "2021-11-16T11:27:29.279Z"
   },
   {
    "duration": 4,
    "start_time": "2021-11-16T11:29:08.919Z"
   },
   {
    "duration": 118,
    "start_time": "2021-11-16T11:29:46.703Z"
   },
   {
    "duration": 437,
    "start_time": "2021-11-16T11:36:02.181Z"
   },
   {
    "duration": 157,
    "start_time": "2021-11-16T11:36:14.388Z"
   },
   {
    "duration": 207,
    "start_time": "2021-11-16T11:47:15.898Z"
   },
   {
    "duration": 3,
    "start_time": "2021-11-16T11:53:52.092Z"
   },
   {
    "duration": 3,
    "start_time": "2021-11-16T11:53:52.236Z"
   },
   {
    "duration": 3,
    "start_time": "2021-11-16T11:59:12.005Z"
   },
   {
    "duration": 112,
    "start_time": "2021-11-16T12:00:33.446Z"
   },
   {
    "duration": 3,
    "start_time": "2021-11-16T12:02:14.453Z"
   },
   {
    "duration": 3,
    "start_time": "2021-11-16T12:02:39.512Z"
   },
   {
    "duration": 106,
    "start_time": "2021-11-16T12:03:03.460Z"
   },
   {
    "duration": 3,
    "start_time": "2021-11-17T20:37:21.139Z"
   },
   {
    "duration": 3,
    "start_time": "2021-11-17T20:37:22.229Z"
   },
   {
    "duration": 3,
    "start_time": "2021-11-17T20:38:38.806Z"
   },
   {
    "duration": 3,
    "start_time": "2021-11-17T20:38:41.958Z"
   },
   {
    "duration": 3,
    "start_time": "2021-11-17T20:43:46.551Z"
   },
   {
    "duration": 4,
    "start_time": "2021-11-17T20:58:21.835Z"
   },
   {
    "duration": 3,
    "start_time": "2021-11-17T20:59:21.872Z"
   },
   {
    "duration": 4,
    "start_time": "2021-11-17T20:59:45.352Z"
   },
   {
    "duration": 4,
    "start_time": "2021-11-17T20:59:49.646Z"
   },
   {
    "duration": 159,
    "start_time": "2021-11-17T21:02:26.949Z"
   },
   {
    "duration": 3,
    "start_time": "2021-11-17T21:03:53.461Z"
   },
   {
    "duration": 3,
    "start_time": "2021-11-17T21:03:53.694Z"
   },
   {
    "duration": 3,
    "start_time": "2021-11-17T21:05:28.145Z"
   },
   {
    "duration": 116,
    "start_time": "2021-11-17T21:05:57.787Z"
   },
   {
    "duration": 3,
    "start_time": "2021-11-17T21:06:37.993Z"
   },
   {
    "duration": 3,
    "start_time": "2021-11-17T21:06:38.261Z"
   },
   {
    "duration": 3,
    "start_time": "2021-11-17T21:11:54.358Z"
   },
   {
    "duration": 3,
    "start_time": "2021-11-17T21:12:43.846Z"
   },
   {
    "duration": 4,
    "start_time": "2021-11-17T21:13:08.773Z"
   },
   {
    "duration": 3,
    "start_time": "2021-11-17T21:14:44.441Z"
   },
   {
    "duration": 3,
    "start_time": "2021-11-17T21:15:42.059Z"
   },
   {
    "duration": 4,
    "start_time": "2021-11-17T21:15:51.995Z"
   },
   {
    "duration": 3,
    "start_time": "2021-11-17T21:15:53.923Z"
   },
   {
    "duration": 3,
    "start_time": "2021-11-17T21:15:55.282Z"
   },
   {
    "duration": 3,
    "start_time": "2021-11-17T21:16:28.492Z"
   },
   {
    "duration": 3,
    "start_time": "2021-11-17T21:16:32.603Z"
   },
   {
    "duration": 3,
    "start_time": "2021-11-17T21:17:06.941Z"
   },
   {
    "duration": 98,
    "start_time": "2021-11-17T21:18:05.733Z"
   },
   {
    "duration": 4,
    "start_time": "2021-11-17T21:21:35.255Z"
   },
   {
    "duration": 3,
    "start_time": "2021-11-17T21:21:37.804Z"
   },
   {
    "duration": 4,
    "start_time": "2021-11-17T21:23:06.071Z"
   },
   {
    "duration": 3,
    "start_time": "2021-11-17T21:23:24.799Z"
   },
   {
    "duration": 3,
    "start_time": "2021-11-17T21:23:32.591Z"
   },
   {
    "duration": 98,
    "start_time": "2021-11-17T21:28:31.559Z"
   },
   {
    "duration": 3,
    "start_time": "2021-11-17T21:28:45.448Z"
   },
   {
    "duration": 3,
    "start_time": "2021-11-17T21:29:17.303Z"
   },
   {
    "duration": 3,
    "start_time": "2021-11-17T21:29:29.617Z"
   },
   {
    "duration": 3,
    "start_time": "2021-11-17T21:29:32.681Z"
   },
   {
    "duration": 3,
    "start_time": "2021-11-17T21:36:11.474Z"
   },
   {
    "duration": 3,
    "start_time": "2021-11-17T21:36:14.791Z"
   },
   {
    "duration": 3,
    "start_time": "2021-11-17T21:36:53.943Z"
   },
   {
    "duration": 3,
    "start_time": "2021-11-17T21:36:56.165Z"
   },
   {
    "duration": 4,
    "start_time": "2021-11-17T21:37:16.590Z"
   },
   {
    "duration": 3,
    "start_time": "2021-11-17T21:37:22.702Z"
   },
   {
    "duration": 4,
    "start_time": "2021-11-17T21:38:03.479Z"
   },
   {
    "duration": 3,
    "start_time": "2021-11-17T21:38:08.601Z"
   },
   {
    "duration": 3,
    "start_time": "2021-11-17T21:38:12.928Z"
   },
   {
    "duration": 3,
    "start_time": "2021-11-17T21:38:48.896Z"
   },
   {
    "duration": 2,
    "start_time": "2021-11-17T21:38:49.171Z"
   },
   {
    "duration": 4,
    "start_time": "2021-11-17T21:39:57.889Z"
   },
   {
    "duration": 3,
    "start_time": "2021-11-17T21:39:58.057Z"
   },
   {
    "duration": 3,
    "start_time": "2021-11-17T21:41:20.108Z"
   },
   {
    "duration": 3,
    "start_time": "2021-11-17T21:41:20.629Z"
   },
   {
    "duration": 3,
    "start_time": "2021-11-17T21:42:49.136Z"
   },
   {
    "duration": 3,
    "start_time": "2021-11-17T21:43:15.137Z"
   },
   {
    "duration": 4,
    "start_time": "2021-11-17T21:43:16.766Z"
   },
   {
    "duration": 4,
    "start_time": "2021-11-17T21:43:31.711Z"
   },
   {
    "duration": 3,
    "start_time": "2021-11-17T21:43:36.312Z"
   },
   {
    "duration": 4,
    "start_time": "2021-11-17T21:45:08.825Z"
   },
   {
    "duration": 4,
    "start_time": "2021-11-17T21:45:10.119Z"
   },
   {
    "duration": 4,
    "start_time": "2021-11-17T21:45:13.748Z"
   },
   {
    "duration": 3,
    "start_time": "2021-11-17T21:45:22.219Z"
   },
   {
    "duration": 3,
    "start_time": "2021-11-17T21:45:33.412Z"
   },
   {
    "duration": 2,
    "start_time": "2021-11-17T21:46:01.885Z"
   },
   {
    "duration": 3,
    "start_time": "2021-11-17T21:46:03.628Z"
   },
   {
    "duration": 107,
    "start_time": "2021-11-17T21:47:32.512Z"
   },
   {
    "duration": 103,
    "start_time": "2021-11-17T21:50:36.243Z"
   },
   {
    "duration": 3,
    "start_time": "2021-11-18T06:28:31.440Z"
   },
   {
    "duration": 3,
    "start_time": "2021-11-18T06:29:00.168Z"
   },
   {
    "duration": 3,
    "start_time": "2021-11-18T06:31:27.008Z"
   },
   {
    "duration": 2,
    "start_time": "2021-11-18T06:35:34.288Z"
   },
   {
    "duration": 2,
    "start_time": "2021-11-18T06:38:04.527Z"
   }
  ],
  "colab": {
   "provenance": []
  },
  "kernelspec": {
   "display_name": "Python 3 (ipykernel)",
   "language": "python",
   "name": "python3"
  },
  "language_info": {
   "codemirror_mode": {
    "name": "ipython",
    "version": 3
   },
   "file_extension": ".py",
   "mimetype": "text/x-python",
   "name": "python",
   "nbconvert_exporter": "python",
   "pygments_lexer": "ipython3",
   "version": "3.11.5"
  },
  "toc": {
   "base_numbering": 1,
   "nav_menu": {},
   "number_sections": true,
   "sideBar": true,
   "skip_h1_title": false,
   "title_cell": "Table of Contents",
   "title_sidebar": "Contents",
   "toc_cell": false,
   "toc_position": {},
   "toc_section_display": true,
   "toc_window_display": true
  }
 },
 "nbformat": 4,
 "nbformat_minor": 1
}
